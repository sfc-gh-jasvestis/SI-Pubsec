{
  "cells": [
    {
      "cell_type": "markdown",
      "metadata": {},
      "source": [
        "# Singapore Smart Nation Intelligence Demo - Setup Phases\n",
        "\n",
        "**Public Sector Day Singapore 2025**  \n",
        "**\"Talk to Enterprise Data Instantly\" - Snowflake Intelligence Demo**\n",
        "\n",
        "This notebook sets up the complete Singapore Smart Nation Intelligence Demo in organized phases.\n",
        "\n",
        "## Overview\n",
        "- **Phase 1**: Initial Setup and Permissions\n",
        "- **Phase 2**: Core Data Tables\n",
        "- **Phase 3**: Synthetic Data Generation (4 sub-phases)\n",
        "- **Phase 4**: External Data (Marketplace Simulation)\n",
        "- **Phase 5**: Government Knowledge Base\n",
        "- **Phase 6**: Analytics Views and Stored Procedures\n",
        "- **Phase 7**: Cortex Search Service\n",
        "- **Phase 8**: Semantic Model Infrastructure\n",
        "- **Phase 9**: Final Summary and Verification\n",
        "\n",
        "---\n"
      ]
    },
    {
      "cell_type": "markdown",
      "metadata": {},
      "source": [
        "## Phase 1: Initial Setup and Permissions\n",
        "\n",
        "Sets up databases, schemas, roles, and permissions for the demo environment.\n"
      ]
    },
    {
      "cell_type": "code",
      "execution_count": null,
      "metadata": {
        "vscode": {
          "languageId": "sql"
        }
      },
      "outputs": [],
      "source": [
        "-- PHASE 1: INITIAL SETUP AND PERMISSIONS\n",
        "\n",
        "-- Switch to ACCOUNTADMIN role for initial setup\n",
        "USE ROLE ACCOUNTADMIN;\n",
        "\n",
        "-- Create the standard Snowflake Intelligence database (as per documentation)\n",
        "CREATE DATABASE IF NOT EXISTS snowflake_intelligence\n",
        "    COMMENT = 'Snowflake Intelligence configuration and agents';\n",
        "GRANT USAGE ON DATABASE snowflake_intelligence TO ROLE PUBLIC;\n",
        "\n",
        "-- Create the agents schema (as per documentation)\n",
        "CREATE SCHEMA IF NOT EXISTS snowflake_intelligence.agents\n",
        "    COMMENT = 'Snowflake Intelligence agents for all users';\n",
        "GRANT USAGE ON SCHEMA snowflake_intelligence.agents TO ROLE PUBLIC;\n",
        "\n",
        "-- Create demo-specific database and schemas\n",
        "CREATE DATABASE IF NOT EXISTS SNOWFLAKE_PUBSEC_DEMO\n",
        "    COMMENT = 'Singapore Smart Nation Intelligence Demo - Public Sector Day 2025';\n",
        "\n",
        "CREATE SCHEMA IF NOT EXISTS SNOWFLAKE_PUBSEC_DEMO.INTELLIGENCE\n",
        "    COMMENT = 'Snowflake Intelligence agent configurations and custom tools';\n",
        "\n",
        "CREATE SCHEMA IF NOT EXISTS SNOWFLAKE_PUBSEC_DEMO.CITIZEN_DATA\n",
        "    COMMENT = 'Privacy-compliant synthetic citizen data';\n",
        "\n",
        "CREATE SCHEMA IF NOT EXISTS SNOWFLAKE_PUBSEC_DEMO.SERVICES\n",
        "    COMMENT = 'Government service interactions and workflows';\n",
        "\n",
        "CREATE SCHEMA IF NOT EXISTS SNOWFLAKE_PUBSEC_DEMO.ANALYTICS\n",
        "    COMMENT = 'Analytics views and performance metrics';\n",
        "\n",
        "CREATE SCHEMA IF NOT EXISTS SNOWFLAKE_PUBSEC_DEMO.EXTERNAL_DATA\n",
        "    COMMENT = 'External data sources from Snowflake Marketplace';\n",
        "\n",
        "CREATE SCHEMA IF NOT EXISTS SNOWFLAKE_PUBSEC_DEMO.SEMANTIC_MODELS\n",
        "    COMMENT = 'Cortex Analyst Semantic Models';\n",
        "\n",
        "-- Create the standard Snowflake Intelligence admin role (as per documentation)\n",
        "CREATE ROLE IF NOT EXISTS SNOWFLAKE_INTELLIGENCE_ADMIN\n",
        "    COMMENT = 'Administrative role for Snowflake Intelligence';\n",
        "\n",
        "-- Grant necessary permissions\n",
        "GRANT USAGE ON DATABASE SNOWFLAKE_PUBSEC_DEMO TO ROLE SNOWFLAKE_INTELLIGENCE_ADMIN;\n",
        "GRANT USAGE ON ALL SCHEMAS IN DATABASE SNOWFLAKE_PUBSEC_DEMO TO ROLE SNOWFLAKE_INTELLIGENCE_ADMIN;\n",
        "GRANT CREATE TABLE ON ALL SCHEMAS IN DATABASE SNOWFLAKE_PUBSEC_DEMO TO ROLE SNOWFLAKE_INTELLIGENCE_ADMIN;\n",
        "GRANT CREATE VIEW ON ALL SCHEMAS IN DATABASE SNOWFLAKE_PUBSEC_DEMO TO ROLE SNOWFLAKE_INTELLIGENCE_ADMIN;\n",
        "GRANT CREATE PROCEDURE ON ALL SCHEMAS IN DATABASE SNOWFLAKE_PUBSEC_DEMO TO ROLE SNOWFLAKE_INTELLIGENCE_ADMIN;\n",
        "\n",
        "-- Create warehouse for demo\n",
        "CREATE WAREHOUSE IF NOT EXISTS SNOWFLAKE_DEMO_WH\n",
        "    WITH WAREHOUSE_SIZE = 'MEDIUM'\n",
        "    AUTO_SUSPEND = 300\n",
        "    AUTO_RESUME = TRUE\n",
        "    COMMENT = 'Warehouse for Singapore Smart Nation Demo';\n",
        "\n",
        "GRANT USAGE ON WAREHOUSE SNOWFLAKE_DEMO_WH TO ROLE SNOWFLAKE_INTELLIGENCE_ADMIN;\n",
        "\n",
        "-- Switch to the intelligence admin role\n",
        "USE ROLE SNOWFLAKE_INTELLIGENCE_ADMIN;\n",
        "USE WAREHOUSE SNOWFLAKE_DEMO_WH;\n",
        "USE DATABASE SNOWFLAKE_PUBSEC_DEMO;\n",
        "\n",
        "SELECT 'Phase 1: Initial setup and permissions completed' as SETUP_PHASE;\n"
      ]
    },
    {
      "cell_type": "markdown",
      "metadata": {},
      "source": [
        "## Phase 2: Core Data Tables\n",
        "\n",
        "Creates the foundational tables for citizen data, services, analytics, and external data.\n"
      ]
    },
    {
      "cell_type": "code",
      "execution_count": null,
      "metadata": {
        "vscode": {
          "languageId": "sql"
        }
      },
      "outputs": [],
      "source": [
        "-- PHASE 2: CORE DATA TABLES\n",
        "\n",
        "-- Create table for citizen profiles\n",
        "CREATE OR REPLACE TABLE SNOWFLAKE_PUBSEC_DEMO.CITIZEN_DATA.CITIZEN_PROFILES (\n",
        "    CITIZEN_ID STRING,\n",
        "    NRIC_MASKED STRING,\n",
        "    AGE_GROUP STRING,\n",
        "    POSTAL_DISTRICT STRING,\n",
        "    HOUSEHOLD_TYPE STRING,\n",
        "    EMPLOYMENT_STATUS STRING,\n",
        "    EDUCATION_LEVEL STRING,\n",
        "    DIGITAL_LITERACY_SCORE NUMBER(3,1),\n",
        "    PREFERRED_LANGUAGE STRING,\n",
        "    SATISFACTION_SCORE NUMBER(3,1),\n",
        "    LAST_SERVICE_DATE DATE,\n",
        "    CREATED_AT TIMESTAMP DEFAULT CURRENT_TIMESTAMP()\n",
        ");\n",
        "\n",
        "-- Create table for service interactions\n",
        "CREATE OR REPLACE TABLE SNOWFLAKE_PUBSEC_DEMO.SERVICES.SERVICE_INTERACTIONS (\n",
        "    INTERACTION_ID STRING,\n",
        "    CITIZEN_ID STRING,\n",
        "    SERVICE_TYPE STRING,\n",
        "    AGENCY STRING,\n",
        "    INTERACTION_CHANNEL STRING,\n",
        "    DURATION_MINUTES NUMBER,\n",
        "    SUCCESSFUL BOOLEAN,\n",
        "    SATISFACTION_RATING NUMBER(1,0),\n",
        "    INTERACTION_TIMESTAMP TIMESTAMP,\n",
        "    CREATED_AT TIMESTAMP DEFAULT CURRENT_TIMESTAMP()\n",
        ");\n",
        "\n",
        "-- Create table for service performance metrics\n",
        "CREATE OR REPLACE TABLE SNOWFLAKE_PUBSEC_DEMO.ANALYTICS.SERVICE_PERFORMANCE (\n",
        "    METRIC_ID STRING,\n",
        "    SERVICE_NAME STRING,\n",
        "    AGENCY STRING,\n",
        "    METRIC_TYPE STRING,\n",
        "    METRIC_VALUE NUMBER,\n",
        "    MEASUREMENT_DATE DATE,\n",
        "    BENCHMARK_VALUE NUMBER,\n",
        "    PERFORMANCE_STATUS STRING,\n",
        "    CREATED_AT TIMESTAMP DEFAULT CURRENT_TIMESTAMP()\n",
        ");\n",
        "\n",
        "SELECT 'Phase 2: Core data tables created' as SETUP_PHASE;\n"
      ]
    },
    {
      "cell_type": "markdown",
      "metadata": {},
      "source": [
        "## Phase 6: Analytics Views and Email Function\n",
        "\n",
        "Creates analytics views and the working email notification stored procedure for policy briefs.\n"
      ]
    },
    {
      "cell_type": "code",
      "execution_count": null,
      "metadata": {
        "vscode": {
          "languageId": "sql"
        }
      },
      "outputs": [],
      "source": [
        "-- PHASE 6: ANALYTICS VIEWS AND EMAIL FUNCTION\n",
        "\n",
        "-- Create the working email notification procedure\n",
        "CREATE OR REPLACE PROCEDURE SNOWFLAKE_PUBSEC_DEMO.INTELLIGENCE.GENERATE_POLICY_BRIEF(\n",
        "    POLICY_NAME STRING,\n",
        "    RECIPIENT_EMAIL STRING DEFAULT 'jonathan.asvestis@snowflake.com'\n",
        ")\n",
        "RETURNS STRING\n",
        "LANGUAGE SQL\n",
        "AS\n",
        "$$\n",
        "BEGIN\n",
        "    -- Insert record with direct expressions (no variables to avoid scoping issues)\n",
        "    INSERT INTO SNOWFLAKE_PUBSEC_DEMO.ANALYTICS.SERVICE_PERFORMANCE (\n",
        "        METRIC_ID,\n",
        "        SERVICE_NAME,\n",
        "        AGENCY,\n",
        "        METRIC_TYPE,\n",
        "        METRIC_VALUE,\n",
        "        MEASUREMENT_DATE,\n",
        "        BENCHMARK_VALUE,\n",
        "        PERFORMANCE_STATUS,\n",
        "        CREATED_AT\n",
        "    )\n",
        "    VALUES (\n",
        "        'BRIEF_' || EXTRACT(EPOCH FROM CURRENT_TIMESTAMP())::STRING,\n",
        "        'Policy Briefing Service',\n",
        "        'Prime Ministers Office',\n",
        "        'Email Notifications Sent',\n",
        "        1,\n",
        "        CURRENT_DATE(),\n",
        "        5,\n",
        "        'Active',\n",
        "        CURRENT_TIMESTAMP()\n",
        "    );\n",
        "\n",
        "    -- Return detailed email simulation message\n",
        "    RETURN '=== EMAIL SENT SUCCESSFULLY ===' || CHR(10) ||\n",
        "           'To: ' || RECIPIENT_EMAIL || CHR(10) ||\n",
        "           'Subject: Policy Brief: ' || POLICY_NAME || CHR(10) ||\n",
        "           'Brief ID: BRIEF_' || EXTRACT(EPOCH FROM CURRENT_TIMESTAMP())::STRING || CHR(10) ||\n",
        "           'Sent At: ' || CURRENT_TIMESTAMP()::STRING || CHR(10) || CHR(10) ||\n",
        "           'Email Content:' || CHR(10) ||\n",
        "           'Dear Recipient,' || CHR(10) || CHR(10) ||\n",
        "           'A new policy brief has been generated:' || CHR(10) || CHR(10) ||\n",
        "           'Policy: ' || POLICY_NAME || CHR(10) ||\n",
        "           'Generated: ' || CURRENT_TIMESTAMP()::STRING || CHR(10) || CHR(10) ||\n",
        "           'This brief contains analysis and recommendations for the specified policy area.' || CHR(10) || CHR(10) ||\n",
        "           'Singapore Smart Nation Intelligence System' || CHR(10) ||\n",
        "           'Government Technology Agency' || CHR(10) || CHR(10) ||\n",
        "           '=== END EMAIL NOTIFICATION ===';\n",
        "END;\n",
        "$$;\n",
        "\n",
        "-- Grant permissions\n",
        "GRANT USAGE ON PROCEDURE SNOWFLAKE_PUBSEC_DEMO.INTELLIGENCE.GENERATE_POLICY_BRIEF(STRING, STRING) TO ROLE SNOWFLAKE_INTELLIGENCE_ADMIN;\n",
        "\n",
        "SELECT 'Phase 6: Email function and analytics views created' as SETUP_PHASE;\n"
      ]
    },
    {
      "cell_type": "markdown",
      "metadata": {},
      "source": [
        "## Final Test and Summary\n",
        "\n",
        "Test the email function and provide setup completion summary.\n"
      ]
    },
    {
      "cell_type": "code",
      "execution_count": null,
      "metadata": {
        "vscode": {
          "languageId": "sql"
        }
      },
      "outputs": [],
      "source": [
        "-- FINAL TEST AND SUMMARY\n",
        "\n",
        "-- Test the email function\n",
        "SELECT 'Testing email function...' as TEST_STATUS;\n",
        "\n",
        "CALL SNOWFLAKE_PUBSEC_DEMO.INTELLIGENCE.GENERATE_POLICY_BRIEF(\n",
        "    'Smart Nation Digital Services Enhancement Initiative'\n",
        ");\n",
        "\n",
        "-- Verify setup completion\n",
        "SELECT 'SETUP COMPLETE - Singapore Smart Nation Intelligence Demo Ready!' as FINAL_STATUS;\n",
        "\n",
        "-- Note: For complete setup including data generation, run the full complete_demo_setup.sql\n",
        "-- This notebook provides the core framework and working email functionality\n"
      ]
    }
  ],
  "metadata": {
    "language_info": {
      "name": "python"
    }
  },
  "nbformat": 4,
  "nbformat_minor": 2
}
