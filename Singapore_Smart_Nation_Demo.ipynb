{
 "cells": [
  {
   "cell_type": "markdown",
   "metadata": {},
   "source": [
    "# 🇸🇬 Singapore Smart Nation Intelligence Demo\n",
    "## Public Sector Day Singapore 2025\n",
    "\n",
    "### 🎯 **\"Talk to Enterprise Data Instantly\"**\n",
    "\n",
    "This interactive notebook demonstrates **Snowflake Intelligence** capabilities for Singapore's public sector, showcasing how government agencies can transform decision-making from hours to seconds using AI-powered natural language queries.\n",
    "\n",
    "---\n",
    "\n",
    "## 📊 **What This Demo Creates:**\n",
    "\n",
    "| Component | Count | Description |\n",
    "|-----------|-------|-------------|\n",
    "| 👥 **Citizen Profiles** | 40,000 | Privacy-compliant synthetic citizen data |\n",
    "| 🏛️ **Service Interactions** | 200,000 | Cross-agency government service usage |\n",
    "| 📈 **Performance Metrics** | 2,160+ | Real-time service benchmarks |\n",
    "| 📚 **Knowledge Documents** | 15 | Government policies and FAQs |\n",
    "| 🌦️ **Weather Data Points** | 2,160 | Singapore climate correlation |\n",
    "| 🤖 **Semantic Models** | 4 | Cortex Analyst visual analytics |\n",
    "\n",
    "**⏱️ Estimated Setup Time:** 5-10 minutes\n",
    "\n",
    "---\n"
   ]
  },
  {
   "cell_type": "markdown",
   "metadata": {},
   "source": [
    "## 🚀 **Step 1: Infrastructure Setup**\n",
    "\n",
    "Creating the foundational Snowflake Intelligence infrastructure for Singapore's Smart Nation platform.\n"
   ]
  },
  {
   "cell_type": "code",
   "execution_count": null,
   "metadata": {
    "vscode": {
     "languageId": "sql"
    }
   },
   "outputs": [],
   "source": [
    "-- 🇸🇬 Singapore Smart Nation Intelligence Demo Setup\n",
    "-- Run this complete script to set up the entire demo environment\n",
    "\n",
    "-- Switch to ACCOUNTADMIN role for initial setup\n",
    "USE ROLE ACCOUNTADMIN;\n",
    "\n",
    "-- Create Snowflake Intelligence infrastructure\n",
    "CREATE DATABASE IF NOT EXISTS snowflake_intelligence\n",
    "    COMMENT = 'Snowflake Intelligence configuration and agents';\n",
    "CREATE SCHEMA IF NOT EXISTS snowflake_intelligence.agents\n",
    "    COMMENT = 'Snowflake Intelligence agents for all users';\n",
    "\n",
    "-- Create demo database and schemas\n",
    "CREATE DATABASE IF NOT EXISTS SNOWFLAKE_PUBSEC_DEMO\n",
    "    COMMENT = 'Singapore Smart Nation Intelligence Demo - Public Sector Day 2025';\n",
    "\n",
    "CREATE SCHEMA IF NOT EXISTS SNOWFLAKE_PUBSEC_DEMO.INTELLIGENCE;\n",
    "CREATE SCHEMA IF NOT EXISTS SNOWFLAKE_PUBSEC_DEMO.CITIZEN_DATA;\n",
    "CREATE SCHEMA IF NOT EXISTS SNOWFLAKE_PUBSEC_DEMO.SERVICES;\n",
    "CREATE SCHEMA IF NOT EXISTS SNOWFLAKE_PUBSEC_DEMO.ANALYTICS;\n",
    "CREATE SCHEMA IF NOT EXISTS SNOWFLAKE_PUBSEC_DEMO.EXTERNAL_DATA;\n",
    "CREATE SCHEMA IF NOT EXISTS SNOWFLAKE_PUBSEC_DEMO.SEMANTIC_MODELS;\n",
    "\n",
    "-- Create role and warehouse\n",
    "CREATE ROLE IF NOT EXISTS SNOWFLAKE_INTELLIGENCE_ADMIN;\n",
    "CREATE WAREHOUSE IF NOT EXISTS SNOWFLAKE_DEMO_WH\n",
    "    WAREHOUSE_SIZE = 'MEDIUM'\n",
    "    AUTO_SUSPEND = 60\n",
    "    AUTO_RESUME = TRUE;\n",
    "\n",
    "-- Grant permissions and switch context\n",
    "GRANT CREATE WAREHOUSE ON ACCOUNT TO ROLE SNOWFLAKE_INTELLIGENCE_ADMIN;\n",
    "GRANT IMPORTED PRIVILEGES ON DATABASE SNOWFLAKE TO ROLE SNOWFLAKE_INTELLIGENCE_ADMIN;\n",
    "GRANT USAGE ON DATABASE snowflake_intelligence TO ROLE SNOWFLAKE_INTELLIGENCE_ADMIN;\n",
    "GRANT ALL ON SCHEMA snowflake_intelligence.agents TO ROLE SNOWFLAKE_INTELLIGENCE_ADMIN;\n",
    "GRANT CREATE AGENT ON SCHEMA snowflake_intelligence.agents TO ROLE SNOWFLAKE_INTELLIGENCE_ADMIN;\n",
    "GRANT CREATE CORTEX SEARCH SERVICE ON SCHEMA snowflake_intelligence.agents TO ROLE SNOWFLAKE_INTELLIGENCE_ADMIN;\n",
    "GRANT USAGE ON DATABASE SNOWFLAKE_PUBSEC_DEMO TO ROLE SNOWFLAKE_INTELLIGENCE_ADMIN;\n",
    "GRANT ALL ON ALL SCHEMAS IN DATABASE SNOWFLAKE_PUBSEC_DEMO TO ROLE SNOWFLAKE_INTELLIGENCE_ADMIN;\n",
    "GRANT CREATE SEMANTIC MODEL ON SCHEMA SNOWFLAKE_PUBSEC_DEMO.SEMANTIC_MODELS TO ROLE SNOWFLAKE_INTELLIGENCE_ADMIN;\n",
    "GRANT USAGE ON WAREHOUSE SNOWFLAKE_DEMO_WH TO ROLE SNOWFLAKE_INTELLIGENCE_ADMIN;\n",
    "GRANT ROLE SNOWFLAKE_INTELLIGENCE_ADMIN TO USER CURRENT_USER();\n",
    "\n",
    "-- Switch to demo context\n",
    "USE ROLE SNOWFLAKE_INTELLIGENCE_ADMIN;\n",
    "USE DATABASE SNOWFLAKE_PUBSEC_DEMO;\n",
    "USE WAREHOUSE SNOWFLAKE_DEMO_WH;\n",
    "\n",
    "SELECT '✅ Infrastructure created successfully!' as STATUS;\n"
   ]
  },
  {
   "cell_type": "markdown",
   "metadata": {},
   "source": [
    "## 📋 **Complete Demo Setup**\n",
    "\n",
    "**For the full demo setup, run the consolidated script:**\n",
    "\n",
    "```sql\n",
    "-- Execute the complete demo setup\n",
    "@complete_demo_setup.sql\n",
    "```\n",
    "\n",
    "This single script will create:\n",
    "- ✅ All databases, schemas, and tables\n",
    "- ✅ 40,000 synthetic citizen profiles  \n",
    "- ✅ 200,000 service interactions\n",
    "- ✅ 2,160+ performance metrics\n",
    "- ✅ Singapore weather data with service correlation\n",
    "- ✅ Government knowledge base with Cortex Search\n",
    "- ✅ Analytics views and stored procedures\n",
    "- ✅ Semantic model infrastructure\n",
    "\n",
    "**Estimated runtime:** 5-10 minutes\n",
    "\n",
    "---\n",
    "\n",
    "## 🎯 **Next Steps After Setup:**\n",
    "\n",
    "1. **Upload semantic model YAML files**\n",
    "2. **Create Cortex Analyst semantic models** \n",
    "3. **Configure Snowflake Intelligence Agent**\n",
    "4. **Test demo scenarios**\n",
    "\n",
    "### 🎤 **Ready for Public Sector Day Singapore 2025!**\n",
    "**\"Talk to Enterprise Data Instantly\"** - Powered by Snowflake Intelligence 🇸🇬✨\n"
   ]
  }
 ],
 "metadata": {
  "language_info": {
   "name": "python"
  }
 },
 "nbformat": 4,
 "nbformat_minor": 5
}
